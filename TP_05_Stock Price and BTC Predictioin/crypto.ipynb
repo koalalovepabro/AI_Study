{
 "cells": [
  {
   "cell_type": "markdown",
   "metadata": {},
   "source": [
    "# BTC 시세 예측해보기💰"
   ]
  },
  {
   "cell_type": "markdown",
   "metadata": {},
   "source": [
    "## 비트코인 3년치 시세 가져오기\n",
    "**pyupbit**는 업비트 API를 파이썬에서 쉽게 사용할 수 있는 모듈"
   ]
  },
  {
   "cell_type": "code",
   "execution_count": 1,
   "metadata": {
    "scrolled": true
   },
   "outputs": [
    {
     "name": "stdout",
     "output_type": "stream",
     "text": [
      "Requirement already satisfied: pyupbit in c:\\users\\dorot\\pycharmprojects\\kagglestudy\\venv\\lib\\site-packages (0.2.23)\n",
      "Requirement already satisfied: requests in c:\\users\\dorot\\pycharmprojects\\kagglestudy\\venv\\lib\\site-packages (from pyupbit) (2.27.1)\n",
      "Requirement already satisfied: pyjwt>=2.0.0 in c:\\users\\dorot\\pycharmprojects\\kagglestudy\\venv\\lib\\site-packages (from pyupbit) (2.3.0)\n",
      "Requirement already satisfied: pandas in c:\\users\\dorot\\pycharmprojects\\kagglestudy\\venv\\lib\\site-packages (from pyupbit) (1.4.0)\n",
      "Requirement already satisfied: websockets==9.1 in c:\\users\\dorot\\pycharmprojects\\kagglestudy\\venv\\lib\\site-packages (from pyupbit) (9.1)\n",
      "Requirement already satisfied: pytz>=2020.1 in c:\\users\\dorot\\pycharmprojects\\kagglestudy\\venv\\lib\\site-packages (from pandas->pyupbit) (2021.3)\n",
      "Requirement already satisfied: python-dateutil>=2.8.1 in c:\\users\\dorot\\pycharmprojects\\kagglestudy\\venv\\lib\\site-packages (from pandas->pyupbit) (2.8.2)\n",
      "Requirement already satisfied: numpy>=1.18.5 in c:\\users\\dorot\\pycharmprojects\\kagglestudy\\venv\\lib\\site-packages (from pandas->pyupbit) (1.22.0)\n",
      "Requirement already satisfied: six>=1.5 in c:\\users\\dorot\\pycharmprojects\\kagglestudy\\venv\\lib\\site-packages (from python-dateutil>=2.8.1->pandas->pyupbit) (1.16.0)\n",
      "Requirement already satisfied: urllib3<1.27,>=1.21.1 in c:\\users\\dorot\\pycharmprojects\\kagglestudy\\venv\\lib\\site-packages (from requests->pyupbit) (1.26.8)\n",
      "Requirement already satisfied: certifi>=2017.4.17 in c:\\users\\dorot\\pycharmprojects\\kagglestudy\\venv\\lib\\site-packages (from requests->pyupbit) (2021.10.8)\n",
      "Requirement already satisfied: idna<4,>=2.5 in c:\\users\\dorot\\pycharmprojects\\kagglestudy\\venv\\lib\\site-packages (from requests->pyupbit) (3.3)\n",
      "Requirement already satisfied: charset-normalizer~=2.0.0 in c:\\users\\dorot\\pycharmprojects\\kagglestudy\\venv\\lib\\site-packages (from requests->pyupbit) (2.0.11)\n"
     ]
    },
    {
     "name": "stderr",
     "output_type": "stream",
     "text": [
      "WARNING: You are using pip version 21.1.2; however, version 22.0.3 is available.\n",
      "You should consider upgrading via the 'C:\\Users\\dorot\\PycharmProjects\\KaggleStudy\\venv\\Scripts\\python.exe -m pip install --upgrade pip' command.\n"
     ]
    }
   ],
   "source": [
    "!pip install pyupbit"
   ]
  },
  {
   "cell_type": "code",
   "execution_count": 2,
   "metadata": {},
   "outputs": [],
   "source": [
    "import pyupbit"
   ]
  },
  {
   "cell_type": "code",
   "execution_count": 3,
   "metadata": {},
   "outputs": [
    {
     "data": {
      "text/plain": [
       "['KRW-BTC',\n",
       " 'KRW-ETH',\n",
       " 'KRW-NEO',\n",
       " 'KRW-MTL',\n",
       " 'KRW-LTC',\n",
       " 'KRW-XRP',\n",
       " 'KRW-ETC',\n",
       " 'KRW-OMG',\n",
       " 'KRW-SNT',\n",
       " 'KRW-WAVES',\n",
       " 'KRW-XEM',\n",
       " 'KRW-QTUM',\n",
       " 'KRW-LSK',\n",
       " 'KRW-STEEM',\n",
       " 'KRW-XLM',\n",
       " 'KRW-ARDR',\n",
       " 'KRW-ARK',\n",
       " 'KRW-STORJ',\n",
       " 'KRW-GRS',\n",
       " 'KRW-REP',\n",
       " 'KRW-ADA',\n",
       " 'KRW-SBD',\n",
       " 'KRW-POWR',\n",
       " 'KRW-BTG',\n",
       " 'KRW-ICX',\n",
       " 'KRW-EOS',\n",
       " 'KRW-TRX',\n",
       " 'KRW-SC',\n",
       " 'KRW-ONT',\n",
       " 'KRW-ZIL',\n",
       " 'KRW-POLY',\n",
       " 'KRW-ZRX',\n",
       " 'KRW-LOOM',\n",
       " 'KRW-BCH',\n",
       " 'KRW-BAT',\n",
       " 'KRW-IOST',\n",
       " 'KRW-RFR',\n",
       " 'KRW-CVC',\n",
       " 'KRW-IQ',\n",
       " 'KRW-IOTA',\n",
       " 'KRW-MFT',\n",
       " 'KRW-ONG',\n",
       " 'KRW-GAS',\n",
       " 'KRW-UPP',\n",
       " 'KRW-ELF',\n",
       " 'KRW-KNC',\n",
       " 'KRW-BSV',\n",
       " 'KRW-THETA',\n",
       " 'KRW-QKC',\n",
       " 'KRW-BTT',\n",
       " 'KRW-MOC',\n",
       " 'KRW-ENJ',\n",
       " 'KRW-TFUEL',\n",
       " 'KRW-MANA',\n",
       " 'KRW-ANKR',\n",
       " 'KRW-AERGO',\n",
       " 'KRW-ATOM',\n",
       " 'KRW-TT',\n",
       " 'KRW-CRE',\n",
       " 'KRW-MBL',\n",
       " 'KRW-WAXP',\n",
       " 'KRW-HBAR',\n",
       " 'KRW-MED',\n",
       " 'KRW-MLK',\n",
       " 'KRW-STPT',\n",
       " 'KRW-ORBS',\n",
       " 'KRW-VET',\n",
       " 'KRW-CHZ',\n",
       " 'KRW-STMX',\n",
       " 'KRW-DKA',\n",
       " 'KRW-HIVE',\n",
       " 'KRW-KAVA',\n",
       " 'KRW-AHT',\n",
       " 'KRW-LINK',\n",
       " 'KRW-XTZ',\n",
       " 'KRW-BORA',\n",
       " 'KRW-JST',\n",
       " 'KRW-CRO',\n",
       " 'KRW-TON',\n",
       " 'KRW-SXP',\n",
       " 'KRW-HUNT',\n",
       " 'KRW-PLA',\n",
       " 'KRW-DOT',\n",
       " 'KRW-SRM',\n",
       " 'KRW-MVL',\n",
       " 'KRW-STRAX',\n",
       " 'KRW-AQT',\n",
       " 'KRW-GLM',\n",
       " 'KRW-SSX',\n",
       " 'KRW-META',\n",
       " 'KRW-FCT2',\n",
       " 'KRW-CBK',\n",
       " 'KRW-SAND',\n",
       " 'KRW-HUM',\n",
       " 'KRW-DOGE',\n",
       " 'KRW-STRK',\n",
       " 'KRW-PUNDIX',\n",
       " 'KRW-FLOW',\n",
       " 'KRW-DAWN',\n",
       " 'KRW-AXS',\n",
       " 'KRW-STX',\n",
       " 'KRW-XEC',\n",
       " 'KRW-SOL',\n",
       " 'KRW-MATIC',\n",
       " 'KRW-NU',\n",
       " 'KRW-AAVE',\n",
       " 'KRW-1INCH',\n",
       " 'KRW-ALGO',\n",
       " 'KRW-NEAR',\n",
       " 'KRW-WEMIX',\n",
       " 'KRW-AVAX']"
      ]
     },
     "execution_count": 3,
     "metadata": {},
     "output_type": "execute_result"
    }
   ],
   "source": [
    "# 업비트에 상장된 코인 리스트 확인(원화 마켓의 암호화폐 선별)\n",
    "pyupbit.get_tickers(fiat=\"KRW\")"
   ]
  },
  {
   "cell_type": "code",
   "execution_count": 4,
   "metadata": {},
   "outputs": [
    {
     "data": {
      "text/plain": [
       "{'KRW-BTC': 52850000.0, 'KRW-ETH': 3668000.0}"
      ]
     },
     "execution_count": 4,
     "metadata": {},
     "output_type": "execute_result"
    }
   ],
   "source": [
    "# 코인 현재가 확인\n",
    "pyupbit.get_current_price(['KRW-BTC', 'KRW-ETH'])"
   ]
  },
  {
   "cell_type": "code",
   "execution_count": 5,
   "metadata": {
    "scrolled": true
   },
   "outputs": [
    {
     "data": {
      "text/html": [
       "<div>\n",
       "<style scoped>\n",
       "    .dataframe tbody tr th:only-of-type {\n",
       "        vertical-align: middle;\n",
       "    }\n",
       "\n",
       "    .dataframe tbody tr th {\n",
       "        vertical-align: top;\n",
       "    }\n",
       "\n",
       "    .dataframe thead th {\n",
       "        text-align: right;\n",
       "    }\n",
       "</style>\n",
       "<table border=\"1\" class=\"dataframe\">\n",
       "  <thead>\n",
       "    <tr style=\"text-align: right;\">\n",
       "      <th></th>\n",
       "      <th>open</th>\n",
       "      <th>high</th>\n",
       "      <th>low</th>\n",
       "      <th>close</th>\n",
       "      <th>volume</th>\n",
       "      <th>value</th>\n",
       "    </tr>\n",
       "  </thead>\n",
       "  <tbody>\n",
       "    <tr>\n",
       "      <th>2019-02-16 09:00:00</th>\n",
       "      <td>3983000.0</td>\n",
       "      <td>4030000.0</td>\n",
       "      <td>3982000.0</td>\n",
       "      <td>4002000.0</td>\n",
       "      <td>4941.132883</td>\n",
       "      <td>1.978461e+10</td>\n",
       "    </tr>\n",
       "    <tr>\n",
       "      <th>2019-02-17 09:00:00</th>\n",
       "      <td>4002000.0</td>\n",
       "      <td>4094000.0</td>\n",
       "      <td>3986000.0</td>\n",
       "      <td>4040000.0</td>\n",
       "      <td>6462.476217</td>\n",
       "      <td>2.595803e+10</td>\n",
       "    </tr>\n",
       "    <tr>\n",
       "      <th>2019-02-18 09:00:00</th>\n",
       "      <td>4040000.0</td>\n",
       "      <td>4260000.0</td>\n",
       "      <td>4027000.0</td>\n",
       "      <td>4236000.0</td>\n",
       "      <td>9883.418435</td>\n",
       "      <td>4.090966e+10</td>\n",
       "    </tr>\n",
       "    <tr>\n",
       "      <th>2019-02-19 09:00:00</th>\n",
       "      <td>4236000.0</td>\n",
       "      <td>4338000.0</td>\n",
       "      <td>4150000.0</td>\n",
       "      <td>4259000.0</td>\n",
       "      <td>9217.257579</td>\n",
       "      <td>3.921234e+10</td>\n",
       "    </tr>\n",
       "    <tr>\n",
       "      <th>2019-02-20 09:00:00</th>\n",
       "      <td>4259000.0</td>\n",
       "      <td>4333000.0</td>\n",
       "      <td>4219000.0</td>\n",
       "      <td>4315000.0</td>\n",
       "      <td>5067.511081</td>\n",
       "      <td>2.168735e+10</td>\n",
       "    </tr>\n",
       "    <tr>\n",
       "      <th>...</th>\n",
       "      <td>...</td>\n",
       "      <td>...</td>\n",
       "      <td>...</td>\n",
       "      <td>...</td>\n",
       "      <td>...</td>\n",
       "      <td>...</td>\n",
       "    </tr>\n",
       "    <tr>\n",
       "      <th>2022-02-10 09:00:00</th>\n",
       "      <td>53659000.0</td>\n",
       "      <td>55380000.0</td>\n",
       "      <td>52604000.0</td>\n",
       "      <td>53123000.0</td>\n",
       "      <td>9079.394423</td>\n",
       "      <td>4.884284e+11</td>\n",
       "    </tr>\n",
       "    <tr>\n",
       "      <th>2022-02-11 09:00:00</th>\n",
       "      <td>53040000.0</td>\n",
       "      <td>53364000.0</td>\n",
       "      <td>51300000.0</td>\n",
       "      <td>51882000.0</td>\n",
       "      <td>6124.946917</td>\n",
       "      <td>3.214801e+11</td>\n",
       "    </tr>\n",
       "    <tr>\n",
       "      <th>2022-02-12 09:00:00</th>\n",
       "      <td>51875000.0</td>\n",
       "      <td>52299000.0</td>\n",
       "      <td>50835000.0</td>\n",
       "      <td>51597000.0</td>\n",
       "      <td>4680.168050</td>\n",
       "      <td>2.416202e+11</td>\n",
       "    </tr>\n",
       "    <tr>\n",
       "      <th>2022-02-13 09:00:00</th>\n",
       "      <td>51619000.0</td>\n",
       "      <td>52190000.0</td>\n",
       "      <td>51400000.0</td>\n",
       "      <td>51550000.0</td>\n",
       "      <td>2737.452447</td>\n",
       "      <td>1.417964e+11</td>\n",
       "    </tr>\n",
       "    <tr>\n",
       "      <th>2022-02-14 09:00:00</th>\n",
       "      <td>51550000.0</td>\n",
       "      <td>52041000.0</td>\n",
       "      <td>50744000.0</td>\n",
       "      <td>51586000.0</td>\n",
       "      <td>4253.627936</td>\n",
       "      <td>2.185294e+11</td>\n",
       "    </tr>\n",
       "  </tbody>\n",
       "</table>\n",
       "<p>1095 rows × 6 columns</p>\n",
       "</div>"
      ],
      "text/plain": [
       "                           open        high         low       close  \\\n",
       "2019-02-16 09:00:00   3983000.0   4030000.0   3982000.0   4002000.0   \n",
       "2019-02-17 09:00:00   4002000.0   4094000.0   3986000.0   4040000.0   \n",
       "2019-02-18 09:00:00   4040000.0   4260000.0   4027000.0   4236000.0   \n",
       "2019-02-19 09:00:00   4236000.0   4338000.0   4150000.0   4259000.0   \n",
       "2019-02-20 09:00:00   4259000.0   4333000.0   4219000.0   4315000.0   \n",
       "...                         ...         ...         ...         ...   \n",
       "2022-02-10 09:00:00  53659000.0  55380000.0  52604000.0  53123000.0   \n",
       "2022-02-11 09:00:00  53040000.0  53364000.0  51300000.0  51882000.0   \n",
       "2022-02-12 09:00:00  51875000.0  52299000.0  50835000.0  51597000.0   \n",
       "2022-02-13 09:00:00  51619000.0  52190000.0  51400000.0  51550000.0   \n",
       "2022-02-14 09:00:00  51550000.0  52041000.0  50744000.0  51586000.0   \n",
       "\n",
       "                          volume         value  \n",
       "2019-02-16 09:00:00  4941.132883  1.978461e+10  \n",
       "2019-02-17 09:00:00  6462.476217  2.595803e+10  \n",
       "2019-02-18 09:00:00  9883.418435  4.090966e+10  \n",
       "2019-02-19 09:00:00  9217.257579  3.921234e+10  \n",
       "2019-02-20 09:00:00  5067.511081  2.168735e+10  \n",
       "...                          ...           ...  \n",
       "2022-02-10 09:00:00  9079.394423  4.884284e+11  \n",
       "2022-02-11 09:00:00  6124.946917  3.214801e+11  \n",
       "2022-02-12 09:00:00  4680.168050  2.416202e+11  \n",
       "2022-02-13 09:00:00  2737.452447  1.417964e+11  \n",
       "2022-02-14 09:00:00  4253.627936  2.185294e+11  \n",
       "\n",
       "[1095 rows x 6 columns]"
      ]
     },
     "execution_count": 5,
     "metadata": {},
     "output_type": "execute_result"
    }
   ],
   "source": [
    "# BTC의 과거 데이터 가져오기\n",
    "ticker = 'KRW-BTC'\n",
    "interval ='day'    # 봉 길이: 하루단위로 설정\n",
    "to = '2022-02-15'  # 데이터의 마지막 시점\n",
    "count = 365*3      # 몇 개의 봉을 가져올지 (3년치니까, 365*3 으로 설정)\n",
    "\n",
    "pyupbit.get_ohlcv(ticker=ticker, interval=interval, to=to, count=count)"
   ]
  },
  {
   "cell_type": "code",
   "execution_count": 6,
   "metadata": {},
   "outputs": [],
   "source": [
    "import pandas as pd\n",
    "import numpy as np\n",
    "from datetime import datetime\n",
    "import matplotlib.pyplot as plt\n",
    "from keras.models import Sequential\n",
    "from keras.layers import LSTM, Dropout, Dense, Activation\n",
    "\n",
    "# matplotlib.pyplot 스타일시트 설정\n",
    "plt.style.use('fivethirtyeight')"
   ]
  },
  {
   "cell_type": "code",
   "execution_count": 7,
   "metadata": {},
   "outputs": [],
   "source": [
    "# 코인의 시세 데이터를 저장할 데이터프레임 생성\n",
    "data = pd.DataFrame()"
   ]
  },
  {
   "cell_type": "code",
   "execution_count": 8,
   "metadata": {},
   "outputs": [
    {
     "data": {
      "text/html": [
       "<div>\n",
       "<style scoped>\n",
       "    .dataframe tbody tr th:only-of-type {\n",
       "        vertical-align: middle;\n",
       "    }\n",
       "\n",
       "    .dataframe tbody tr th {\n",
       "        vertical-align: top;\n",
       "    }\n",
       "\n",
       "    .dataframe thead th {\n",
       "        text-align: right;\n",
       "    }\n",
       "</style>\n",
       "<table border=\"1\" class=\"dataframe\">\n",
       "  <thead>\n",
       "    <tr style=\"text-align: right;\">\n",
       "      <th></th>\n",
       "      <th>open</th>\n",
       "      <th>high</th>\n",
       "      <th>low</th>\n",
       "      <th>close</th>\n",
       "      <th>volume</th>\n",
       "      <th>value</th>\n",
       "    </tr>\n",
       "  </thead>\n",
       "  <tbody>\n",
       "    <tr>\n",
       "      <th>2019-02-16 09:00:00</th>\n",
       "      <td>3983000.0</td>\n",
       "      <td>4030000.0</td>\n",
       "      <td>3982000.0</td>\n",
       "      <td>4002000.0</td>\n",
       "      <td>4941.132883</td>\n",
       "      <td>1.978461e+10</td>\n",
       "    </tr>\n",
       "    <tr>\n",
       "      <th>2019-02-17 09:00:00</th>\n",
       "      <td>4002000.0</td>\n",
       "      <td>4094000.0</td>\n",
       "      <td>3986000.0</td>\n",
       "      <td>4040000.0</td>\n",
       "      <td>6462.476217</td>\n",
       "      <td>2.595803e+10</td>\n",
       "    </tr>\n",
       "    <tr>\n",
       "      <th>2019-02-18 09:00:00</th>\n",
       "      <td>4040000.0</td>\n",
       "      <td>4260000.0</td>\n",
       "      <td>4027000.0</td>\n",
       "      <td>4236000.0</td>\n",
       "      <td>9883.418435</td>\n",
       "      <td>4.090966e+10</td>\n",
       "    </tr>\n",
       "    <tr>\n",
       "      <th>2019-02-19 09:00:00</th>\n",
       "      <td>4236000.0</td>\n",
       "      <td>4338000.0</td>\n",
       "      <td>4150000.0</td>\n",
       "      <td>4259000.0</td>\n",
       "      <td>9217.257579</td>\n",
       "      <td>3.921234e+10</td>\n",
       "    </tr>\n",
       "    <tr>\n",
       "      <th>2019-02-20 09:00:00</th>\n",
       "      <td>4259000.0</td>\n",
       "      <td>4333000.0</td>\n",
       "      <td>4219000.0</td>\n",
       "      <td>4315000.0</td>\n",
       "      <td>5067.511081</td>\n",
       "      <td>2.168735e+10</td>\n",
       "    </tr>\n",
       "    <tr>\n",
       "      <th>...</th>\n",
       "      <td>...</td>\n",
       "      <td>...</td>\n",
       "      <td>...</td>\n",
       "      <td>...</td>\n",
       "      <td>...</td>\n",
       "      <td>...</td>\n",
       "    </tr>\n",
       "    <tr>\n",
       "      <th>2022-02-10 09:00:00</th>\n",
       "      <td>53659000.0</td>\n",
       "      <td>55380000.0</td>\n",
       "      <td>52604000.0</td>\n",
       "      <td>53123000.0</td>\n",
       "      <td>9079.394423</td>\n",
       "      <td>4.884284e+11</td>\n",
       "    </tr>\n",
       "    <tr>\n",
       "      <th>2022-02-11 09:00:00</th>\n",
       "      <td>53040000.0</td>\n",
       "      <td>53364000.0</td>\n",
       "      <td>51300000.0</td>\n",
       "      <td>51882000.0</td>\n",
       "      <td>6124.946917</td>\n",
       "      <td>3.214801e+11</td>\n",
       "    </tr>\n",
       "    <tr>\n",
       "      <th>2022-02-12 09:00:00</th>\n",
       "      <td>51875000.0</td>\n",
       "      <td>52299000.0</td>\n",
       "      <td>50835000.0</td>\n",
       "      <td>51597000.0</td>\n",
       "      <td>4680.168050</td>\n",
       "      <td>2.416202e+11</td>\n",
       "    </tr>\n",
       "    <tr>\n",
       "      <th>2022-02-13 09:00:00</th>\n",
       "      <td>51619000.0</td>\n",
       "      <td>52190000.0</td>\n",
       "      <td>51400000.0</td>\n",
       "      <td>51550000.0</td>\n",
       "      <td>2737.452447</td>\n",
       "      <td>1.417964e+11</td>\n",
       "    </tr>\n",
       "    <tr>\n",
       "      <th>2022-02-14 09:00:00</th>\n",
       "      <td>51550000.0</td>\n",
       "      <td>52041000.0</td>\n",
       "      <td>50744000.0</td>\n",
       "      <td>51586000.0</td>\n",
       "      <td>4253.627936</td>\n",
       "      <td>2.185294e+11</td>\n",
       "    </tr>\n",
       "  </tbody>\n",
       "</table>\n",
       "<p>1095 rows × 6 columns</p>\n",
       "</div>"
      ],
      "text/plain": [
       "                           open        high         low       close  \\\n",
       "2019-02-16 09:00:00   3983000.0   4030000.0   3982000.0   4002000.0   \n",
       "2019-02-17 09:00:00   4002000.0   4094000.0   3986000.0   4040000.0   \n",
       "2019-02-18 09:00:00   4040000.0   4260000.0   4027000.0   4236000.0   \n",
       "2019-02-19 09:00:00   4236000.0   4338000.0   4150000.0   4259000.0   \n",
       "2019-02-20 09:00:00   4259000.0   4333000.0   4219000.0   4315000.0   \n",
       "...                         ...         ...         ...         ...   \n",
       "2022-02-10 09:00:00  53659000.0  55380000.0  52604000.0  53123000.0   \n",
       "2022-02-11 09:00:00  53040000.0  53364000.0  51300000.0  51882000.0   \n",
       "2022-02-12 09:00:00  51875000.0  52299000.0  50835000.0  51597000.0   \n",
       "2022-02-13 09:00:00  51619000.0  52190000.0  51400000.0  51550000.0   \n",
       "2022-02-14 09:00:00  51550000.0  52041000.0  50744000.0  51586000.0   \n",
       "\n",
       "                          volume         value  \n",
       "2019-02-16 09:00:00  4941.132883  1.978461e+10  \n",
       "2019-02-17 09:00:00  6462.476217  2.595803e+10  \n",
       "2019-02-18 09:00:00  9883.418435  4.090966e+10  \n",
       "2019-02-19 09:00:00  9217.257579  3.921234e+10  \n",
       "2019-02-20 09:00:00  5067.511081  2.168735e+10  \n",
       "...                          ...           ...  \n",
       "2022-02-10 09:00:00  9079.394423  4.884284e+11  \n",
       "2022-02-11 09:00:00  6124.946917  3.214801e+11  \n",
       "2022-02-12 09:00:00  4680.168050  2.416202e+11  \n",
       "2022-02-13 09:00:00  2737.452447  1.417964e+11  \n",
       "2022-02-14 09:00:00  4253.627936  2.185294e+11  \n",
       "\n",
       "[1095 rows x 6 columns]"
      ]
     },
     "execution_count": 8,
     "metadata": {},
     "output_type": "execute_result"
    }
   ],
   "source": [
    "# 비트코인 시세데이터 가져오기\n",
    "data = pyupbit.get_ohlcv(ticker=ticker, interval=interval, to=to, count=count)\n",
    "data"
   ]
  },
  {
   "cell_type": "markdown",
   "metadata": {},
   "source": [
    "## EDA"
   ]
  },
  {
   "cell_type": "code",
   "execution_count": 9,
   "metadata": {},
   "outputs": [
    {
     "name": "stdout",
     "output_type": "stream",
     "text": [
      "<class 'pandas.core.frame.DataFrame'>\n",
      "DatetimeIndex: 1095 entries, 2019-02-16 09:00:00 to 2022-02-14 09:00:00\n",
      "Data columns (total 6 columns):\n",
      " #   Column  Non-Null Count  Dtype  \n",
      "---  ------  --------------  -----  \n",
      " 0   open    1095 non-null   float64\n",
      " 1   high    1095 non-null   float64\n",
      " 2   low     1095 non-null   float64\n",
      " 3   close   1095 non-null   float64\n",
      " 4   volume  1095 non-null   float64\n",
      " 5   value   1095 non-null   float64\n",
      "dtypes: float64(6)\n",
      "memory usage: 59.9 KB\n"
     ]
    }
   ],
   "source": [
    "data.info()"
   ]
  },
  {
   "cell_type": "code",
   "execution_count": 10,
   "metadata": {},
   "outputs": [
    {
     "data": {
      "text/html": [
       "<div>\n",
       "<style scoped>\n",
       "    .dataframe tbody tr th:only-of-type {\n",
       "        vertical-align: middle;\n",
       "    }\n",
       "\n",
       "    .dataframe tbody tr th {\n",
       "        vertical-align: top;\n",
       "    }\n",
       "\n",
       "    .dataframe thead th {\n",
       "        text-align: right;\n",
       "    }\n",
       "</style>\n",
       "<table border=\"1\" class=\"dataframe\">\n",
       "  <thead>\n",
       "    <tr style=\"text-align: right;\">\n",
       "      <th></th>\n",
       "      <th>open</th>\n",
       "      <th>high</th>\n",
       "      <th>low</th>\n",
       "      <th>close</th>\n",
       "      <th>volume</th>\n",
       "      <th>value</th>\n",
       "    </tr>\n",
       "  </thead>\n",
       "  <tbody>\n",
       "    <tr>\n",
       "      <th>count</th>\n",
       "      <td>1.095000e+03</td>\n",
       "      <td>1.095000e+03</td>\n",
       "      <td>1.095000e+03</td>\n",
       "      <td>1.095000e+03</td>\n",
       "      <td>1095.000000</td>\n",
       "      <td>1.095000e+03</td>\n",
       "    </tr>\n",
       "    <tr>\n",
       "      <th>mean</th>\n",
       "      <td>2.796133e+07</td>\n",
       "      <td>2.865383e+07</td>\n",
       "      <td>2.720263e+07</td>\n",
       "      <td>2.800514e+07</td>\n",
       "      <td>7961.340015</td>\n",
       "      <td>2.556717e+11</td>\n",
       "    </tr>\n",
       "    <tr>\n",
       "      <th>std</th>\n",
       "      <td>2.322377e+07</td>\n",
       "      <td>2.378036e+07</td>\n",
       "      <td>2.256912e+07</td>\n",
       "      <td>2.322347e+07</td>\n",
       "      <td>6193.022883</td>\n",
       "      <td>3.051806e+11</td>\n",
       "    </tr>\n",
       "    <tr>\n",
       "      <th>min</th>\n",
       "      <td>3.983000e+06</td>\n",
       "      <td>4.030000e+06</td>\n",
       "      <td>3.982000e+06</td>\n",
       "      <td>4.002000e+06</td>\n",
       "      <td>802.758950</td>\n",
       "      <td>7.904937e+09</td>\n",
       "    </tr>\n",
       "    <tr>\n",
       "      <th>25%</th>\n",
       "      <td>1.023450e+07</td>\n",
       "      <td>1.051000e+07</td>\n",
       "      <td>1.001750e+07</td>\n",
       "      <td>1.025250e+07</td>\n",
       "      <td>3896.353653</td>\n",
       "      <td>3.903193e+10</td>\n",
       "    </tr>\n",
       "    <tr>\n",
       "      <th>50%</th>\n",
       "      <td>1.315000e+07</td>\n",
       "      <td>1.344000e+07</td>\n",
       "      <td>1.289300e+07</td>\n",
       "      <td>1.316500e+07</td>\n",
       "      <td>6538.450248</td>\n",
       "      <td>9.545671e+10</td>\n",
       "    </tr>\n",
       "    <tr>\n",
       "      <th>75%</th>\n",
       "      <td>5.032100e+07</td>\n",
       "      <td>5.154400e+07</td>\n",
       "      <td>4.833900e+07</td>\n",
       "      <td>5.035600e+07</td>\n",
       "      <td>9872.012978</td>\n",
       "      <td>4.171286e+11</td>\n",
       "    </tr>\n",
       "    <tr>\n",
       "      <th>max</th>\n",
       "      <td>8.140200e+07</td>\n",
       "      <td>8.270000e+07</td>\n",
       "      <td>7.998700e+07</td>\n",
       "      <td>8.140300e+07</td>\n",
       "      <td>53630.665207</td>\n",
       "      <td>1.999142e+12</td>\n",
       "    </tr>\n",
       "  </tbody>\n",
       "</table>\n",
       "</div>"
      ],
      "text/plain": [
       "               open          high           low         close        volume  \\\n",
       "count  1.095000e+03  1.095000e+03  1.095000e+03  1.095000e+03   1095.000000   \n",
       "mean   2.796133e+07  2.865383e+07  2.720263e+07  2.800514e+07   7961.340015   \n",
       "std    2.322377e+07  2.378036e+07  2.256912e+07  2.322347e+07   6193.022883   \n",
       "min    3.983000e+06  4.030000e+06  3.982000e+06  4.002000e+06    802.758950   \n",
       "25%    1.023450e+07  1.051000e+07  1.001750e+07  1.025250e+07   3896.353653   \n",
       "50%    1.315000e+07  1.344000e+07  1.289300e+07  1.316500e+07   6538.450248   \n",
       "75%    5.032100e+07  5.154400e+07  4.833900e+07  5.035600e+07   9872.012978   \n",
       "max    8.140200e+07  8.270000e+07  7.998700e+07  8.140300e+07  53630.665207   \n",
       "\n",
       "              value  \n",
       "count  1.095000e+03  \n",
       "mean   2.556717e+11  \n",
       "std    3.051806e+11  \n",
       "min    7.904937e+09  \n",
       "25%    3.903193e+10  \n",
       "50%    9.545671e+10  \n",
       "75%    4.171286e+11  \n",
       "max    1.999142e+12  "
      ]
     },
     "execution_count": 10,
     "metadata": {},
     "output_type": "execute_result"
    }
   ],
   "source": [
    "data.describe()"
   ]
  },
  {
   "cell_type": "code",
   "execution_count": 11,
   "metadata": {},
   "outputs": [
    {
     "data": {
      "text/plain": [
       "(1095, 6)"
      ]
     },
     "execution_count": 11,
     "metadata": {},
     "output_type": "execute_result"
    }
   ],
   "source": [
    "data.shape"
   ]
  },
  {
   "cell_type": "code",
   "execution_count": 12,
   "metadata": {},
   "outputs": [
    {
     "data": {
      "text/plain": [
       "open      0\n",
       "high      0\n",
       "low       0\n",
       "close     0\n",
       "volume    0\n",
       "value     0\n",
       "dtype: int64"
      ]
     },
     "execution_count": 12,
     "metadata": {},
     "output_type": "execute_result"
    }
   ],
   "source": [
    "data.isnull().sum()"
   ]
  },
  {
   "cell_type": "markdown",
   "metadata": {},
   "source": [
    "## 중간가격 구하기"
   ]
  },
  {
   "cell_type": "code",
   "execution_count": 13,
   "metadata": {},
   "outputs": [
    {
     "data": {
      "text/plain": [
       "array([ 4006000.,  4040000.,  4143500., ..., 51567000., 51795000.,\n",
       "       51392500.])"
      ]
     },
     "execution_count": 13,
     "metadata": {},
     "output_type": "execute_result"
    }
   ],
   "source": [
    "high_prices = data['high'].values #고가\n",
    "low_prices = data['low'].values   #저가\n",
    "\n",
    "mid_prices = (high_prices + low_prices) / 2\n",
    "mid_prices"
   ]
  },
  {
   "cell_type": "code",
   "execution_count": 14,
   "metadata": {},
   "outputs": [],
   "source": [
    "seq_len = 50\n",
    "sequence_length = seq_len +1\n",
    "\n",
    "result= []\n",
    "for index in range(len(mid_prices) - sequence_length):\n",
    "    result.append(mid_prices[index: index + sequence_length])  # 중간값으로 윈도우 채움"
   ]
  },
  {
   "cell_type": "code",
   "execution_count": 15,
   "metadata": {},
   "outputs": [
    {
     "data": {
      "text/plain": [
       "[array([4006000., 4040000., 4143500., 4244000., 4276000., 4344500.,\n",
       "        4344000., 4406500., 4359500., 4221000., 4236000., 4208000.,\n",
       "        4261000., 4247500., 4236000., 4238500., 4188500., 4198000.,\n",
       "        4253500., 4283000., 4296000., 4341500., 4329500., 4333000.,\n",
       "        4315500., 4331500., 4336500., 4353500., 4423000., 4416000.,\n",
       "        4449500., 4469000., 4496000., 4487000., 4492500., 4508000.,\n",
       "        4515500., 4486500., 4457000., 4515000., 4558500., 4612000.,\n",
       "        4606500., 4644000., 4690500., 5115500., 5615500., 5585000.,\n",
       "        5640500., 5808000., 5853500.]),\n",
       " array([4040000., 4143500., 4244000., 4276000., 4344500., 4344000.,\n",
       "        4406500., 4359500., 4221000., 4236000., 4208000., 4261000.,\n",
       "        4247500., 4236000., 4238500., 4188500., 4198000., 4253500.,\n",
       "        4283000., 4296000., 4341500., 4329500., 4333000., 4315500.,\n",
       "        4331500., 4336500., 4353500., 4423000., 4416000., 4449500.,\n",
       "        4469000., 4496000., 4487000., 4492500., 4508000., 4515500.,\n",
       "        4486500., 4457000., 4515000., 4558500., 4612000., 4606500.,\n",
       "        4644000., 4690500., 5115500., 5615500., 5585000., 5640500.,\n",
       "        5808000., 5853500., 5972500.]),\n",
       " array([4143500., 4244000., 4276000., 4344500., 4344000., 4406500.,\n",
       "        4359500., 4221000., 4236000., 4208000., 4261000., 4247500.,\n",
       "        4236000., 4238500., 4188500., 4198000., 4253500., 4283000.,\n",
       "        4296000., 4341500., 4329500., 4333000., 4315500., 4331500.,\n",
       "        4336500., 4353500., 4423000., 4416000., 4449500., 4469000.,\n",
       "        4496000., 4487000., 4492500., 4508000., 4515500., 4486500.,\n",
       "        4457000., 4515000., 4558500., 4612000., 4606500., 4644000.,\n",
       "        4690500., 5115500., 5615500., 5585000., 5640500., 5808000.,\n",
       "        5853500., 5972500., 6015500.])]"
      ]
     },
     "execution_count": 15,
     "metadata": {},
     "output_type": "execute_result"
    }
   ],
   "source": [
    "result[:3]"
   ]
  },
  {
   "cell_type": "code",
   "execution_count": 16,
   "metadata": {},
   "outputs": [
    {
     "data": {
      "text/plain": [
       "1044"
      ]
     },
     "execution_count": 16,
     "metadata": {},
     "output_type": "execute_result"
    }
   ],
   "source": [
    "len(result)"
   ]
  },
  {
   "cell_type": "markdown",
   "metadata": {},
   "source": [
    "3년치 시세데이터(총 1,095개 레코드) 중 윈도우 크기인 51개가 제외됨  \n",
    "(1,095-51 = 1,044)"
   ]
  },
  {
   "cell_type": "markdown",
   "metadata": {},
   "source": [
    "## Normalize Data\n",
    "모델의 정확도를 높여주기 위함"
   ]
  },
  {
   "cell_type": "code",
   "execution_count": 17,
   "metadata": {},
   "outputs": [
    {
     "data": {
      "text/plain": [
       "array([[ 0.        ,  0.00848727,  0.03432351, ...,  0.40801298,\n",
       "         0.44982526,  0.46118323],\n",
       "       [ 0.        ,  0.02561881,  0.05049505, ...,  0.43762376,\n",
       "         0.44888614,  0.47834158],\n",
       "       [ 0.        ,  0.02425486,  0.0319778 , ...,  0.41269458,\n",
       "         0.44141426,  0.45179196],\n",
       "       ...,\n",
       "       [ 0.        ,  0.02523855,  0.02116568, ..., -0.11966624,\n",
       "        -0.10790202, -0.13532984],\n",
       "       [ 0.        , -0.0039726 , -0.01509267, ..., -0.12986301,\n",
       "        -0.15661563, -0.1689444 ],\n",
       "       [ 0.        , -0.01116442, -0.0013996 , ..., -0.15325184,\n",
       "        -0.16562978, -0.16194067]])"
      ]
     },
     "execution_count": 17,
     "metadata": {},
     "output_type": "execute_result"
    }
   ],
   "source": [
    "normalized_data =[]\n",
    "\n",
    "for window in result:\n",
    "    normalized_window = [((float(p)/float(window[0])) - 1) for p in window]\n",
    "    normalized_data.append(normalized_window)\n",
    "\n",
    "result = np.array(normalized_data)\n",
    "result"
   ]
  },
  {
   "cell_type": "code",
   "execution_count": 18,
   "metadata": {},
   "outputs": [
    {
     "data": {
      "text/plain": [
       "(1044, 51)"
      ]
     },
     "execution_count": 18,
     "metadata": {},
     "output_type": "execute_result"
    }
   ],
   "source": [
    "result.shape"
   ]
  },
  {
   "cell_type": "markdown",
   "metadata": {},
   "source": [
    "## Split dataset (train:test = 90:10)"
   ]
  },
  {
   "cell_type": "code",
   "execution_count": 19,
   "metadata": {},
   "outputs": [
    {
     "data": {
      "text/plain": [
       "940"
      ]
     },
     "execution_count": 19,
     "metadata": {},
     "output_type": "execute_result"
    }
   ],
   "source": [
    "row = int(round(result.shape[0] * 0.9))  # result 레코드의 90%\n",
    "row"
   ]
  },
  {
   "cell_type": "code",
   "execution_count": 20,
   "metadata": {},
   "outputs": [
    {
     "data": {
      "text/plain": [
       "array([[ 0.        ,  0.00848727,  0.03432351, ...,  0.40801298,\n",
       "         0.44982526,  0.46118323],\n",
       "       [ 0.        ,  0.02561881,  0.05049505, ...,  0.43762376,\n",
       "         0.44888614,  0.47834158],\n",
       "       [ 0.        ,  0.02425486,  0.0319778 , ...,  0.41269458,\n",
       "         0.44141426,  0.45179196],\n",
       "       ...,\n",
       "       [ 0.        , -0.01644987, -0.01483626, ...,  0.30644279,\n",
       "         0.32747353,  0.32368154],\n",
       "       [ 0.        ,  0.0016406 ,  0.0049856 , ...,  0.34967553,\n",
       "         0.34582012,  0.33119144],\n",
       "       [ 0.        ,  0.00333952,  0.00983657, ...,  0.34361578,\n",
       "         0.32901107,  0.31880141]])"
      ]
     },
     "execution_count": 20,
     "metadata": {},
     "output_type": "execute_result"
    }
   ],
   "source": [
    "train = result[:row, :]  # 전체의 90%를 train 데이터셋으로 지정\n",
    "train"
   ]
  },
  {
   "cell_type": "code",
   "execution_count": 21,
   "metadata": {},
   "outputs": [
    {
     "data": {
      "text/plain": [
       "(940, 51)"
      ]
     },
     "execution_count": 21,
     "metadata": {},
     "output_type": "execute_result"
    }
   ],
   "source": [
    "train.shape"
   ]
  },
  {
   "cell_type": "markdown",
   "metadata": {},
   "source": [
    "### train dataset"
   ]
  },
  {
   "cell_type": "markdown",
   "metadata": {},
   "source": [
    "#### 독립변수(x)\n",
    "1개의 예측값을 위한 50개의 과거 시세값"
   ]
  },
  {
   "cell_type": "code",
   "execution_count": 22,
   "metadata": {},
   "outputs": [
    {
     "data": {
      "text/plain": [
       "array([[ 0.        ,  0.00848727,  0.03432351, ...,  0.39415876,\n",
       "         0.40801298,  0.44982526],\n",
       "       [ 0.        ,  0.02561881,  0.05049505, ...,  0.39616337,\n",
       "         0.43762376,  0.44888614],\n",
       "       [ 0.        ,  0.02425486,  0.0319778 , ...,  0.40171353,\n",
       "         0.41269458,  0.44141426],\n",
       "       ...,\n",
       "       [ 0.        , -0.01644987, -0.01483626, ...,  0.29429588,\n",
       "         0.30644279,  0.32747353],\n",
       "       [ 0.        ,  0.0016406 ,  0.0049856 , ...,  0.32829305,\n",
       "         0.34967553,  0.34582012],\n",
       "       [ 0.        ,  0.00333952,  0.00983657, ...,  0.34746488,\n",
       "         0.34361578,  0.32901107]])"
      ]
     },
     "execution_count": 22,
     "metadata": {},
     "output_type": "execute_result"
    }
   ],
   "source": [
    "x_train = train[:, :-1]\n",
    "x_train"
   ]
  },
  {
   "cell_type": "code",
   "execution_count": 23,
   "metadata": {},
   "outputs": [
    {
     "data": {
      "text/plain": [
       "(940, 50)"
      ]
     },
     "execution_count": 23,
     "metadata": {},
     "output_type": "execute_result"
    }
   ],
   "source": [
    "x_train.shape"
   ]
  },
  {
   "cell_type": "code",
   "execution_count": 24,
   "metadata": {},
   "outputs": [
    {
     "data": {
      "text/plain": [
       "array([[[ 0.        ],\n",
       "        [ 0.00848727],\n",
       "        [ 0.03432351],\n",
       "        ...,\n",
       "        [ 0.39415876],\n",
       "        [ 0.40801298],\n",
       "        [ 0.44982526]],\n",
       "\n",
       "       [[ 0.        ],\n",
       "        [ 0.02561881],\n",
       "        [ 0.05049505],\n",
       "        ...,\n",
       "        [ 0.39616337],\n",
       "        [ 0.43762376],\n",
       "        [ 0.44888614]],\n",
       "\n",
       "       [[ 0.        ],\n",
       "        [ 0.02425486],\n",
       "        [ 0.0319778 ],\n",
       "        ...,\n",
       "        [ 0.40171353],\n",
       "        [ 0.41269458],\n",
       "        [ 0.44141426]],\n",
       "\n",
       "       ...,\n",
       "\n",
       "       [[ 0.        ],\n",
       "        [-0.01644987],\n",
       "        [-0.01483626],\n",
       "        ...,\n",
       "        [ 0.29429588],\n",
       "        [ 0.30644279],\n",
       "        [ 0.32747353]],\n",
       "\n",
       "       [[ 0.        ],\n",
       "        [ 0.0016406 ],\n",
       "        [ 0.0049856 ],\n",
       "        ...,\n",
       "        [ 0.32829305],\n",
       "        [ 0.34967553],\n",
       "        [ 0.34582012]],\n",
       "\n",
       "       [[ 0.        ],\n",
       "        [ 0.00333952],\n",
       "        [ 0.00983657],\n",
       "        ...,\n",
       "        [ 0.34746488],\n",
       "        [ 0.34361578],\n",
       "        [ 0.32901107]]])"
      ]
     },
     "execution_count": 24,
     "metadata": {},
     "output_type": "execute_result"
    }
   ],
   "source": [
    "x_train = np.reshape(x_train, (x_train.shape[0], x_train.shape[1], 1))\n",
    "x_train"
   ]
  },
  {
   "cell_type": "code",
   "execution_count": 25,
   "metadata": {},
   "outputs": [
    {
     "data": {
      "text/plain": [
       "(940, 50, 1)"
      ]
     },
     "execution_count": 25,
     "metadata": {},
     "output_type": "execute_result"
    }
   ],
   "source": [
    "x_train.shape"
   ]
  },
  {
   "cell_type": "markdown",
   "metadata": {},
   "source": [
    "#### 종속변수(y)\n",
    "50개의 과거 시세데이터를 통해 얻어진 1개의 예측값(target)"
   ]
  },
  {
   "cell_type": "code",
   "execution_count": 26,
   "metadata": {},
   "outputs": [
    {
     "data": {
      "text/plain": [
       "array([ 4.61183225e-01,  4.78341584e-01,  4.51791963e-01,  4.43096136e-01,\n",
       "        4.02712816e-01,  3.32374266e-01,  3.52900552e-01,  3.41881312e-01,\n",
       "        3.60821195e-01,  3.98483772e-01,  4.22450425e-01,  4.36787072e-01,\n",
       "        4.24313541e-01,  4.40258976e-01,  4.42870633e-01,  4.59006724e-01,\n",
       "        5.24173332e-01,  5.30967127e-01,  4.72904667e-01,  4.42563624e-01,\n",
       "        4.25046555e-01,  4.13912242e-01,  3.99930708e-01,  4.03992615e-01,\n",
       "        4.25674893e-01,  4.47881796e-01,  5.00749452e-01,  5.17284943e-01,\n",
       "        5.07800136e-01,  5.04189312e-01,  5.22418249e-01,  5.24837771e-01,\n",
       "        5.83852313e-01,  6.50991754e-01,  7.85420145e-01,  8.58584738e-01,\n",
       "        9.46849740e-01,  1.11824362e+00,  1.12889836e+00,  1.11395349e+00,\n",
       "        9.65229791e-01,  9.42324371e-01,  1.02094866e+00,  1.03628338e+00,\n",
       "        1.03048715e+00,  8.40582543e-01,  6.55774196e-01,  7.05102954e-01,\n",
       "        6.99140147e-01,  7.09366391e-01,  7.80985735e-01,  7.27584763e-01,\n",
       "        7.08918627e-01,  6.92056494e-01,  6.90146716e-01,  7.81808759e-01,\n",
       "        7.81436107e-01,  7.33384069e-01,  6.22166035e-01,  6.22225987e-01,\n",
       "        5.61364202e-01,  5.89315250e-01,  6.00428407e-01,  5.66407846e-01,\n",
       "        5.60291230e-01,  5.57163648e-01,  5.17387218e-01,  5.35164151e-01,\n",
       "        6.25937749e-01,  6.92239217e-01,  7.64211042e-01,  7.82275800e-01,\n",
       "        8.02507837e-01,  8.03649215e-01,  8.16497359e-01,  8.60639400e-01,\n",
       "        9.10033805e-01,  9.10226327e-01,  9.07032539e-01,  1.02100113e+00,\n",
       "        1.26586950e+00,  1.16736371e+00,  1.03602022e+00,  1.00404968e+00,\n",
       "        7.65615260e-01,  5.62093453e-01,  4.33397793e-01,  4.54990267e-01,\n",
       "        4.74890657e-01,  4.08664676e-01,  5.24641402e-01,  5.17023889e-01,\n",
       "        5.15441216e-01,  5.65907048e-01,  5.51186476e-01,  4.94875471e-01,\n",
       "        4.80963648e-01,  4.51170850e-01,  3.69469950e-01,  2.74073328e-01,\n",
       "        1.85275779e-01,  1.08402791e-01,  1.61575875e-01,  2.06938145e-01,\n",
       "        2.57706535e-01,  2.18877254e-01,  1.83628636e-01,  1.76008586e-01,\n",
       "        2.02161376e-01,  2.35327903e-01,  2.32674320e-01,  2.03663232e-01,\n",
       "        1.53968908e-01,  1.84346465e-01,  1.87332879e-01,  2.07747027e-01,\n",
       "        2.43625477e-01,  2.65950438e-01,  2.47042654e-01,  2.19979915e-01,\n",
       "        2.57395491e-01,  2.80791554e-01,  2.80457666e-01,  2.82797904e-01,\n",
       "        2.65882248e-01,  1.96032222e-01,  1.00197096e-01,  8.68600412e-02,\n",
       "        5.19342664e-02, -5.91455920e-02, -2.08254609e-01, -1.61210603e-01,\n",
       "       -1.40497293e-01, -1.59403206e-01, -9.60316340e-02, -8.36644254e-03,\n",
       "       -7.02325212e-03, -1.23015730e-01, -1.18903855e-01, -9.05541093e-02,\n",
       "       -1.06417249e-01, -8.42562272e-02, -1.30564219e-01, -1.89525932e-01,\n",
       "       -2.15893323e-01, -1.77548845e-01, -1.56935367e-01, -1.53225515e-01,\n",
       "       -7.53904762e-02, -1.14633568e-03,  2.52903330e-02,  1.05451843e-01,\n",
       "        6.02127125e-02, -3.67779332e-03, -2.54901961e-02, -2.59714433e-02,\n",
       "       -1.98515171e-02,  2.48890364e-04,  5.90370819e-02,  3.89703707e-02,\n",
       "        5.53160300e-02,  5.65450458e-02,  7.97162867e-02,  6.33976562e-02,\n",
       "        6.70317054e-02,  2.34737747e-02,  5.39553416e-03, -4.37532525e-02,\n",
       "       -6.66378021e-02, -8.07886794e-02, -2.09602003e-01, -2.72149866e-01,\n",
       "       -3.00343127e-01, -3.12813044e-01, -3.07121400e-01, -3.03192061e-01,\n",
       "       -2.96139222e-01, -2.69687910e-01, -2.56119894e-01, -2.11590990e-01,\n",
       "       -1.93375849e-01, -2.18589821e-01, -2.32676644e-01, -2.31219199e-01,\n",
       "       -2.34924231e-01, -2.30650692e-01, -1.87812188e-01, -1.65216674e-01,\n",
       "       -1.97802198e-01, -1.93620936e-01, -1.95329783e-01, -2.11740126e-01,\n",
       "       -2.18408609e-01, -2.03891180e-01, -1.80939227e-01, -1.82791983e-01,\n",
       "       -1.73615298e-01, -1.70611861e-01, -2.07902435e-01, -2.79195853e-01,\n",
       "       -3.09258821e-01, -2.55131501e-01, -1.34518167e-01, -1.24262729e-01,\n",
       "       -1.10824950e-01, -1.14495713e-01, -1.18392887e-01, -1.09277153e-01,\n",
       "       -1.24183807e-01, -1.16227981e-01, -1.17416350e-01, -1.14525368e-01,\n",
       "       -1.07916047e-01, -1.07055558e-01, -1.16826684e-01, -1.25136520e-01,\n",
       "       -1.54103369e-01, -1.31404889e-01, -1.32121621e-01, -1.33475480e-01,\n",
       "       -4.83510341e-02, -6.22610060e-03,  2.53895275e-02,  2.72421814e-02,\n",
       "        1.38230043e-02,  7.71208226e-04, -1.43361729e-02, -5.33173581e-02,\n",
       "       -7.42564309e-02, -1.30096405e-01, -1.26906401e-01, -1.29332163e-01,\n",
       "       -1.46831207e-01, -1.20961017e-01, -1.35177906e-01, -1.22784176e-01,\n",
       "       -1.21377614e-01, -1.19233429e-01, -1.24500834e-01, -1.31845842e-01,\n",
       "       -1.23307199e-01, -1.11677456e-01, -9.82580578e-02, -8.59804281e-02,\n",
       "       -6.86656830e-02, -7.36257928e-02, -8.63084380e-02, -1.12410489e-01,\n",
       "       -1.15162549e-01, -7.07148347e-02, -2.82824820e-02, -1.12243814e-01,\n",
       "       -2.41124395e-01, -2.50251993e-01, -2.84576394e-01, -2.52328691e-01,\n",
       "       -2.15539783e-01, -2.25439985e-01, -2.26410698e-01, -2.18698214e-01,\n",
       "       -1.97055964e-01, -2.15193383e-01, -2.22489811e-01, -2.15329652e-01,\n",
       "       -2.21264233e-01, -1.90713977e-01, -1.69049827e-01, -1.89021158e-01,\n",
       "       -1.88581147e-01, -1.79429134e-01, -2.00391581e-01, -1.89235854e-01,\n",
       "       -1.57931447e-01, -1.40448873e-01, -1.27792312e-01, -5.93886463e-02,\n",
       "       -1.10666105e-02, -4.85682645e-02, -2.31195050e-02,  6.18759019e-02,\n",
       "        6.70094059e-02,  8.72634514e-02,  1.65788183e-01,  1.51064208e-01,\n",
       "        1.46095272e-01,  1.37972371e-01,  1.23698062e-01,  1.33804397e-01,\n",
       "        1.38914550e-01,  1.57359813e-01,  1.57723577e-01,  1.21930227e-01,\n",
       "        1.28744939e-01,  1.15596015e-01,  1.13902563e-01,  1.53933931e-01,\n",
       "        1.82362672e-01,  2.35126821e-01,  2.58127094e-01,  2.69230769e-01,\n",
       "        2.75239607e-01,  2.89892344e-01,  3.04269393e-01,  3.01271083e-01,\n",
       "        3.73038968e-01,  3.76279758e-01,  3.61071429e-01,  3.73948064e-01,\n",
       "        4.11275750e-01,  3.70176162e-01,  3.38579500e-01,  3.96431936e-01,\n",
       "        4.07195616e-01,  3.96404920e-01,  4.01347855e-01,  3.69682587e-01,\n",
       "        3.40635461e-01,  3.79211981e-01,  3.96670459e-01,  3.75194914e-01,\n",
       "        4.12463271e-01,  3.94828111e-01,  3.79304224e-01,  3.69650489e-01,\n",
       "        3.22046608e-01,  2.03561090e-01,  1.29755942e-01,  1.72043011e-01,\n",
       "        1.66777778e-01,  1.33119530e-01,  1.53909330e-01,  1.50916630e-01,\n",
       "        1.04463488e-01,  1.00334793e-01,  1.12999588e-01,  8.49260095e-02,\n",
       "        2.25245428e-02, -3.94697794e-02, -2.35222549e-02, -5.11759362e-02,\n",
       "       -2.21659310e-01, -3.37237253e-01, -2.88583726e-01, -2.83654093e-01,\n",
       "       -3.44000813e-01, -3.49072930e-01, -3.59996140e-01, -3.08082707e-01,\n",
       "       -2.51051304e-01, -2.78126891e-01, -2.94310218e-01, -2.85575184e-01,\n",
       "       -2.48317197e-01, -2.19592373e-01, -2.42801198e-01, -2.74703114e-01,\n",
       "       -3.31409079e-01, -3.48383427e-01, -3.50704225e-01, -3.23873409e-01,\n",
       "       -3.27059736e-01, -3.04549479e-01, -3.02615984e-01, -3.04158198e-01,\n",
       "       -2.96663661e-01, -2.64359352e-01, -2.33320191e-01, -2.44484660e-01,\n",
       "       -2.49624834e-01, -2.55734845e-01, -2.69610817e-01, -2.54362240e-01,\n",
       "       -2.86492515e-01, -2.84975422e-01, -2.79898774e-01, -2.48956253e-01,\n",
       "       -1.93858780e-01, -1.83675400e-01, -1.77221217e-01, -1.80370335e-01,\n",
       "       -2.02941874e-01, -1.91286622e-01, -1.55845392e-01, -1.47310771e-01,\n",
       "       -1.51318834e-01, -1.43425190e-01, -8.33861299e-02, -3.00720906e-02,\n",
       "        4.12729727e-02,  1.55000000e-01,  3.86028227e-01,  6.65097616e-01,\n",
       "        5.71665226e-01,  5.33600802e-01,  6.84993031e-01,  6.95708318e-01,\n",
       "        7.48077793e-01,  6.28158109e-01,  4.61538462e-01,  4.07015734e-01,\n",
       "        3.96210389e-01,  3.80192108e-01,  3.49791462e-01,  3.93669515e-01,\n",
       "        4.03589900e-01,  4.05313562e-01,  5.11381476e-01,  5.62978381e-01,\n",
       "        5.29152698e-01,  4.72271687e-01,  4.34048000e-01,  3.42427549e-01,\n",
       "        3.56418816e-01,  3.31406317e-01,  3.06043956e-01,  2.68327151e-01,\n",
       "        2.51871322e-01,  2.94855709e-01,  3.07296726e-01,  3.42200867e-01,\n",
       "        3.61656678e-01,  3.82554262e-01,  4.11205964e-01,  3.78646581e-01,\n",
       "        4.13899661e-01,  4.14864048e-01,  3.58083202e-01,  3.41617426e-01,\n",
       "        3.47164352e-01,  3.65269812e-01,  3.95225622e-01,  3.39879243e-01,\n",
       "        2.69369573e-01,  2.44949495e-01,  2.29607415e-01,  1.97506207e-01,\n",
       "        2.10070183e-01,  2.12412402e-01,  1.30228848e-01,  3.76715483e-02,\n",
       "        4.64499930e-02,  4.64361850e-02,  4.97685716e-02,  8.08651780e-02,\n",
       "        4.14981618e-02, -1.11987099e-02, -4.76067270e-02, -8.88916698e-02,\n",
       "       -6.43701712e-02,  1.23739688e-03,  2.41939258e-02,  3.44211417e-02,\n",
       "       -7.17953378e-03, -6.12694301e-02, -5.60950234e-02, -5.03407342e-02,\n",
       "       -5.22807929e-02, -5.28373212e-02, -4.67265615e-02, -4.73002160e-02,\n",
       "       -2.07524434e-02, -8.49065125e-03, -1.66017810e-02,  4.20494538e-03,\n",
       "        2.67377179e-02,  2.00557103e-02, -3.24067735e-03, -3.73942918e-02,\n",
       "       -4.34896630e-02, -4.65380250e-02, -4.61478124e-02, -6.27115775e-02,\n",
       "       -4.80531652e-02, -1.99895933e-02, -2.82408399e-02, -2.48975060e-02,\n",
       "        4.91146439e-03,  7.84576191e-02,  1.04729585e-01,  1.17546191e-01,\n",
       "        1.08076972e-01,  1.61176007e-01,  2.10075074e-01,  2.01649175e-01,\n",
       "        1.75912376e-01,  1.99819698e-01,  1.91177117e-01,  2.13031484e-01,\n",
       "        2.18183422e-01,  2.28031244e-01,  2.24429041e-01,  2.41186891e-01,\n",
       "        1.95224167e-01,  1.69166270e-01,  2.04077130e-01,  2.52378364e-01,\n",
       "        2.60843974e-01,  2.68794066e-01,  2.86144441e-01,  2.88506431e-01,\n",
       "        2.67933839e-01,  2.63751250e-01,  2.71133690e-01,  2.57991813e-01,\n",
       "        2.65546064e-01,  2.81712963e-01,  2.43264225e-01,  2.23774321e-01,\n",
       "        2.13924964e-01,  2.18861936e-01,  2.29787622e-01,  2.36767787e-01,\n",
       "        2.47724791e-01,  2.61981703e-01,  2.42522194e-01,  1.80365920e-01,\n",
       "        1.41725433e-01,  1.38503775e-01,  1.24840066e-01,  1.13095238e-01,\n",
       "        1.12339531e-01,  9.38600451e-02,  9.57218294e-02,  8.65890890e-02,\n",
       "        8.85076733e-02,  8.25559497e-02,  7.27116827e-02,  1.96989110e-02,\n",
       "       -5.83271766e-04, -1.51904561e-02, -1.77512514e-02, -2.87856524e-02,\n",
       "       -6.04258443e-02, -8.30428241e-02, -7.72305604e-02, -8.85491021e-02,\n",
       "       -9.23275544e-02, -1.02555772e-01, -9.53829441e-02, -9.94940369e-02,\n",
       "       -8.48060384e-02, -1.04866909e-01, -8.38233683e-02, -7.85183542e-02,\n",
       "       -9.57563764e-02, -1.04358835e-01, -1.07839265e-01, -1.00422185e-01,\n",
       "       -1.15675215e-01, -1.20000000e-01, -1.00540541e-01, -9.16187050e-02,\n",
       "       -7.69812408e-02, -5.62705667e-02, -4.97532298e-02, -5.30612245e-02,\n",
       "       -3.33149679e-02, -2.55716562e-02, -2.79346211e-02, -3.03176847e-02,\n",
       "       -2.69048325e-02, -2.12507366e-02, -1.22173596e-02,  2.52461500e-02,\n",
       "        6.58434706e-02,  1.16753422e-01,  1.75710905e-01,  1.87846636e-01,\n",
       "        1.89389015e-01,  2.39819005e-01,  2.40019714e-01,  2.41570019e-01,\n",
       "        2.39901981e-01,  2.62521378e-01,  2.62852976e-01,  2.40067967e-01,\n",
       "        2.40957596e-01,  2.34922255e-01,  3.01066065e-01,  3.57418299e-01,\n",
       "        3.27570661e-01,  3.15436242e-01,  3.38008908e-01,  3.63134304e-01,\n",
       "        4.14344095e-01,  4.50022670e-01,  4.57512090e-01,  4.26129279e-01,\n",
       "        4.16116248e-01,  4.44997391e-01,  4.91831879e-01,  5.60369913e-01,\n",
       "        5.73313666e-01,  6.27391985e-01,  6.70719352e-01,  6.20355412e-01,\n",
       "        6.27314442e-01,  6.57721621e-01,  6.87083835e-01,  5.96883578e-01,\n",
       "        5.28605769e-01,  5.21165802e-01,  5.33294324e-01,  6.01603967e-01,\n",
       "        5.98357838e-01,  5.89144034e-01,  5.99931606e-01,  5.85745255e-01,\n",
       "        5.80021400e-01,  5.94851728e-01,  5.88811029e-01,  5.38024459e-01,\n",
       "        4.60623962e-01,  4.04369086e-01,  3.54463887e-01,  3.91568553e-01,\n",
       "        4.16865661e-01,  4.07835972e-01,  4.36983401e-01,  4.57631055e-01,\n",
       "        5.97807366e-01,  6.49059238e-01,  6.91656510e-01,  6.76632801e-01,\n",
       "        6.42167399e-01,  6.88405324e-01,  6.96296296e-01,  6.65511430e-01,\n",
       "        5.98145933e-01,  6.21481248e-01,  7.89517201e-01,  7.62239000e-01,\n",
       "        7.38881589e-01,  8.29957137e-01,  8.40157185e-01,  8.30609170e-01,\n",
       "        9.10497700e-01,  1.11403187e+00,  1.02046585e+00,  1.02602416e+00,\n",
       "        1.08324474e+00,  1.17754502e+00,  1.30130495e+00,  1.28814771e+00,\n",
       "        1.09824136e+00,  9.58624128e-01,  9.17979668e-01,  9.09187698e-01,\n",
       "        1.00927269e+00,  1.07009960e+00,  1.13579179e+00,  1.05196022e+00,\n",
       "        1.02762937e+00,  9.55320642e-01,  8.53558885e-01,  7.56942944e-01,\n",
       "        6.38777400e-01,  7.19575958e-01,  7.05920766e-01,  7.74757655e-01,\n",
       "        7.11498358e-01,  6.94541629e-01,  7.92472384e-01,  9.18390862e-01,\n",
       "        8.89111675e-01,  8.21977967e-01,  7.83310059e-01,  7.93391012e-01,\n",
       "        8.36851112e-01,  8.09232240e-01,  6.63771481e-01,  6.92644183e-01,\n",
       "        6.18688786e-01,  7.53327947e-01,  9.44791748e-01,  8.76818735e-01,\n",
       "        8.96221758e-01,  9.57103585e-01,  9.08891883e-01,  8.36639708e-01,\n",
       "        7.06197815e-01,  7.95243833e-01,  8.90088668e-01,  8.42247963e-01,\n",
       "        8.95518638e-01,  9.93571329e-01,  8.85974898e-01,  6.28353768e-01,\n",
       "        5.76193408e-01,  5.21995421e-01,  4.37739219e-01,  2.55689817e-01,\n",
       "        1.93105119e-01,  1.18852415e-01,  2.54936416e-01,  4.26088063e-01,\n",
       "        4.86961905e-01,  4.54468258e-01,  3.22064183e-01,  3.64700998e-01,\n",
       "        4.10497122e-01,  4.84623972e-01,  5.34354689e-01,  5.63385335e-01,\n",
       "        6.72480245e-01,  7.99264987e-01,  9.76928874e-01,  9.52968087e-01,\n",
       "        8.94928615e-01,  7.35111545e-01,  8.38884065e-01,  9.78747058e-01,\n",
       "        9.08181972e-01,  7.97717599e-01,  8.02555387e-01,  8.07429902e-01,\n",
       "        7.45409624e-01,  7.80550233e-01,  6.53791408e-01,  6.22796754e-01,\n",
       "        6.49784456e-01,  5.92744769e-01,  6.35190242e-01,  5.30297877e-01,\n",
       "        4.18322451e-01,  4.86209346e-01,  4.64254961e-01,  4.38649200e-01,\n",
       "        4.29299613e-01,  4.71050172e-01,  5.05913984e-01,  3.78930393e-01,\n",
       "        2.95030697e-01,  3.04560615e-01,  2.85997117e-01,  2.14240092e-01,\n",
       "        2.11093657e-01,  3.10831626e-01,  4.33463519e-01,  4.35478496e-01,\n",
       "        4.08554441e-01,  4.71014154e-01,  3.77725893e-01,  4.21326298e-01,\n",
       "        2.71998673e-01,  2.41196837e-01,  1.11090874e-01,  1.83427879e-02,\n",
       "        8.31863952e-02,  6.82123235e-02,  7.33861145e-02,  9.69971972e-02,\n",
       "        5.08811383e-02,  1.21073039e-02,  1.76806992e-02,  3.98180700e-02,\n",
       "       -2.31644382e-03, -5.28495929e-03,  2.49523026e-02,  6.62943290e-02,\n",
       "        5.67555217e-02, -3.07187158e-03,  3.08617797e-02,  4.06449739e-02,\n",
       "        6.31232950e-02,  4.98926351e-02,  1.60428221e-02, -5.41732521e-02,\n",
       "       -2.46312742e-02, -6.95413527e-02, -1.22297323e-01, -1.82124751e-01,\n",
       "       -1.95446353e-01, -3.07515827e-01, -2.81853337e-01, -3.18169538e-01,\n",
       "       -3.62579578e-01, -4.03855281e-01, -3.91639805e-01, -3.82262396e-01,\n",
       "       -3.87669385e-01, -3.67619421e-01, -3.81998806e-01, -4.24467971e-01,\n",
       "       -4.56291105e-01, -4.51282643e-01, -4.43695449e-01, -4.56887122e-01,\n",
       "       -4.48084759e-01, -4.49659292e-01, -4.63025263e-01, -4.67132423e-01,\n",
       "       -4.54923002e-01, -4.85085598e-01, -4.14751083e-01, -3.78608249e-01,\n",
       "       -3.29760910e-01, -2.74986309e-01, -2.92185525e-01, -2.30999271e-01,\n",
       "       -2.46338399e-01, -2.87789679e-01, -2.96240672e-01, -3.18717748e-01,\n",
       "       -3.61072402e-01, -3.99545796e-01, -4.20646583e-01, -4.76105686e-01,\n",
       "       -4.39192642e-01, -4.25121056e-01, -4.38876557e-01, -4.61893156e-01,\n",
       "       -4.46171383e-01, -4.43326168e-01, -4.25176149e-01, -4.12667657e-01,\n",
       "       -3.95895031e-01, -3.78365905e-01, -3.62017376e-01, -3.19010482e-01,\n",
       "       -3.12473649e-01, -2.68702974e-01, -2.65189682e-01, -1.90853842e-01,\n",
       "       -2.28850668e-01, -1.93046623e-01, -1.43611144e-01, -9.67096209e-02,\n",
       "       -1.24513838e-01, -1.88050048e-01, -2.01508191e-01, -2.00335675e-01,\n",
       "       -1.71562424e-01, -1.28106986e-01, -1.20878600e-01, -1.61119489e-01,\n",
       "       -1.57250330e-01, -1.26514829e-01, -1.37191325e-01, -9.74917341e-02,\n",
       "       -5.36992280e-02,  4.48629321e-02,  7.59702116e-02,  2.16930242e-01,\n",
       "        1.44969682e-01,  7.72995488e-02,  1.22902230e-01,  1.26829383e-01,\n",
       "        7.33022800e-02, -1.31915774e-02, -3.16724563e-02,  6.67177075e-04,\n",
       "        6.31371769e-02,  1.51074183e-01,  2.07161823e-01,  2.48504159e-01,\n",
       "        3.35332911e-01,  4.48840588e-01,  3.63957045e-01,  3.64510991e-01,\n",
       "        4.04048448e-01,  4.75972851e-01,  4.16178013e-01,  3.43426365e-01,\n",
       "        2.90547628e-01,  3.08016568e-01,  4.20700432e-01,  4.69970047e-01,\n",
       "        4.41122106e-01,  4.20513636e-01,  4.23002315e-01,  4.05488186e-01,\n",
       "        3.93671296e-01,  4.35850191e-01,  4.65463660e-01,  4.41593433e-01,\n",
       "        4.15933859e-01,  4.02102745e-01,  4.34947206e-01,  4.96585047e-01,\n",
       "        5.18526789e-01,  5.46515514e-01,  5.66077937e-01,  5.94556484e-01,\n",
       "        5.64780874e-01,  5.38581602e-01,  5.16449969e-01,  4.69748873e-01,\n",
       "        4.26680364e-01,  3.88294445e-01,  3.67060516e-01,  2.65935846e-01,\n",
       "        2.97580977e-01,  2.31928558e-01,  2.40507971e-01,  2.51774763e-01,\n",
       "        2.05905536e-01,  1.69302637e-01,  1.37842894e-01,  1.50369798e-01,\n",
       "        1.90908283e-01,  1.52397504e-01,  7.65486542e-02,  4.09770688e-02,\n",
       "        3.63900590e-02, -3.28261674e-03, -3.38870369e-02, -1.24386345e-02,\n",
       "        6.55240204e-02,  8.94564811e-02,  6.70081873e-02,  8.44307239e-02,\n",
       "        1.15562502e-01,  2.01588442e-01,  2.52740710e-01,  2.45665658e-01,\n",
       "        1.83227775e-01,  1.78827381e-01,  2.14080673e-01,  1.96606374e-01,\n",
       "        2.09841256e-01,  2.53013120e-01,  3.04818707e-01,  3.39559421e-01,\n",
       "        3.10841355e-01,  3.22873362e-01,  3.73126670e-01,  4.34610031e-01,\n",
       "        4.10066584e-01,  3.24272912e-01,  2.87319436e-01,  2.89417724e-01,\n",
       "        2.94069327e-01,  2.47075901e-01,  2.43443887e-01,  3.20015579e-01,\n",
       "        3.30849840e-01,  3.23681545e-01,  3.31191440e-01,  3.18801412e-01])"
      ]
     },
     "execution_count": 26,
     "metadata": {},
     "output_type": "execute_result"
    }
   ],
   "source": [
    "y_train = train[:, -1]\n",
    "y_train"
   ]
  },
  {
   "cell_type": "code",
   "execution_count": 27,
   "metadata": {},
   "outputs": [
    {
     "data": {
      "text/plain": [
       "(940,)"
      ]
     },
     "execution_count": 27,
     "metadata": {},
     "output_type": "execute_result"
    }
   ],
   "source": [
    "y_train.shape"
   ]
  },
  {
   "cell_type": "markdown",
   "metadata": {},
   "source": [
    "### test dataset"
   ]
  },
  {
   "cell_type": "markdown",
   "metadata": {},
   "source": [
    "#### 독립변수(x)"
   ]
  },
  {
   "cell_type": "code",
   "execution_count": 28,
   "metadata": {},
   "outputs": [
    {
     "data": {
      "text/plain": [
       "array([[ 0.        ,  0.00647543,  0.03036377, ...,  0.33914368,\n",
       "         0.32458758,  0.31441191],\n",
       "       [ 0.        ,  0.02373465,  0.02675329, ...,  0.31606549,\n",
       "         0.30595529,  0.33019454],\n",
       "       [ 0.        ,  0.00294866,  0.01027189, ...,  0.27567753,\n",
       "         0.29935482,  0.29953086],\n",
       "       ...,\n",
       "       [ 0.        ,  0.02523855,  0.02116568, ..., -0.11069437,\n",
       "        -0.11966624, -0.10790202],\n",
       "       [ 0.        , -0.0039726 , -0.01509267, ..., -0.14133763,\n",
       "        -0.12986301, -0.15661563],\n",
       "       [ 0.        , -0.01116442, -0.0013996 , ..., -0.12639252,\n",
       "        -0.15325184, -0.16562978]])"
      ]
     },
     "execution_count": 28,
     "metadata": {},
     "output_type": "execute_result"
    }
   ],
   "source": [
    "x_test = result[row:, :-1]  # 전체의 10% 레코드 & target을 제외한 50개 값만 선택\n",
    "x_test"
   ]
  },
  {
   "cell_type": "code",
   "execution_count": 29,
   "metadata": {},
   "outputs": [
    {
     "data": {
      "text/plain": [
       "(104, 50)"
      ]
     },
     "execution_count": 29,
     "metadata": {},
     "output_type": "execute_result"
    }
   ],
   "source": [
    "x_test.shape"
   ]
  },
  {
   "cell_type": "code",
   "execution_count": 30,
   "metadata": {},
   "outputs": [
    {
     "data": {
      "text/plain": [
       "array([[[ 0.        ],\n",
       "        [ 0.00647543],\n",
       "        [ 0.03036377],\n",
       "        ...,\n",
       "        [ 0.33914368],\n",
       "        [ 0.32458758],\n",
       "        [ 0.31441191]],\n",
       "\n",
       "       [[ 0.        ],\n",
       "        [ 0.02373465],\n",
       "        [ 0.02675329],\n",
       "        ...,\n",
       "        [ 0.31606549],\n",
       "        [ 0.30595529],\n",
       "        [ 0.33019454]],\n",
       "\n",
       "       [[ 0.        ],\n",
       "        [ 0.00294866],\n",
       "        [ 0.01027189],\n",
       "        ...,\n",
       "        [ 0.27567753],\n",
       "        [ 0.29935482],\n",
       "        [ 0.29953086]],\n",
       "\n",
       "       ...,\n",
       "\n",
       "       [[ 0.        ],\n",
       "        [ 0.02523855],\n",
       "        [ 0.02116568],\n",
       "        ...,\n",
       "        [-0.11069437],\n",
       "        [-0.11966624],\n",
       "        [-0.10790202]],\n",
       "\n",
       "       [[ 0.        ],\n",
       "        [-0.0039726 ],\n",
       "        [-0.01509267],\n",
       "        ...,\n",
       "        [-0.14133763],\n",
       "        [-0.12986301],\n",
       "        [-0.15661563]],\n",
       "\n",
       "       [[ 0.        ],\n",
       "        [-0.01116442],\n",
       "        [-0.0013996 ],\n",
       "        ...,\n",
       "        [-0.12639252],\n",
       "        [-0.15325184],\n",
       "        [-0.16562978]]])"
      ]
     },
     "execution_count": 30,
     "metadata": {},
     "output_type": "execute_result"
    }
   ],
   "source": [
    "x_test = np.reshape(x_test, (x_test.shape[0], x_test.shape[1], 1))\n",
    "x_test"
   ]
  },
  {
   "cell_type": "code",
   "execution_count": 31,
   "metadata": {},
   "outputs": [
    {
     "data": {
      "text/plain": [
       "(104, 50, 1)"
      ]
     },
     "execution_count": 31,
     "metadata": {},
     "output_type": "execute_result"
    }
   ],
   "source": [
    "x_test.shape"
   ]
  },
  {
   "cell_type": "code",
   "execution_count": 32,
   "metadata": {},
   "outputs": [
    {
     "data": {
      "text/plain": [
       "array([ 0.33880812,  0.33037476,  0.30585947,  0.30316115,  0.29335761,\n",
       "        0.29708976,  0.35992638,  0.45727261,  0.53932187,  0.51877903,\n",
       "        0.45310416,  0.4785553 ,  0.51610504,  0.50924241,  0.42995064,\n",
       "        0.43378451,  0.42046538,  0.35556109,  0.30396231,  0.25918275,\n",
       "        0.23270748,  0.20461942,  0.16811556,  0.12898741,  0.06865829,\n",
       "        0.03798247,  0.0592848 ,  0.06715519,  0.02984613,  0.03184429,\n",
       "        0.02829935, -0.01879037, -0.15019741, -0.18186535, -0.18700069,\n",
       "       -0.16526814, -0.20140455, -0.23819569, -0.22931874, -0.20245383,\n",
       "       -0.16822216, -0.19318875, -0.22307814, -0.19585636, -0.1608256 ,\n",
       "       -0.19306961, -0.21614522, -0.20129624, -0.20896524, -0.18478448,\n",
       "       -0.18455369, -0.18013966, -0.16352116, -0.16757357, -0.17663979,\n",
       "       -0.18353497, -0.24475082, -0.29058253, -0.28812644, -0.27313221,\n",
       "       -0.26171925, -0.25973443, -0.27430876, -0.27855692, -0.27248935,\n",
       "       -0.27280659, -0.27846139, -0.26841711, -0.28742359, -0.31314204,\n",
       "       -0.28433125, -0.2540351 , -0.2582401 , -0.28657228, -0.26039843,\n",
       "       -0.24443706, -0.27018075, -0.29538155, -0.29251221, -0.28890129,\n",
       "       -0.3312432 , -0.36153173, -0.29765442, -0.29688084, -0.27052301,\n",
       "       -0.27251732, -0.27688584, -0.24444737, -0.22439947, -0.22340092,\n",
       "       -0.24654458, -0.20946754, -0.20592866, -0.24570525, -0.20482833,\n",
       "       -0.13515536, -0.11761463, -0.10803409, -0.06826621, -0.09809564,\n",
       "       -0.10295156, -0.13532984, -0.1689444 , -0.16194067])"
      ]
     },
     "execution_count": 32,
     "metadata": {},
     "output_type": "execute_result"
    }
   ],
   "source": [
    "y_test = result[row:, -1]  # 전체의 10% 레코드 & target값만\n",
    "y_test"
   ]
  },
  {
   "cell_type": "code",
   "execution_count": 33,
   "metadata": {},
   "outputs": [
    {
     "data": {
      "text/plain": [
       "(104,)"
      ]
     },
     "execution_count": 33,
     "metadata": {},
     "output_type": "execute_result"
    }
   ],
   "source": [
    "y_test.shape"
   ]
  },
  {
   "cell_type": "code",
   "execution_count": 34,
   "metadata": {},
   "outputs": [
    {
     "data": {
      "text/plain": [
       "((940, 50, 1), (104, 50, 1))"
      ]
     },
     "execution_count": 34,
     "metadata": {},
     "output_type": "execute_result"
    }
   ],
   "source": [
    "x_train.shape, x_test.shape"
   ]
  },
  {
   "cell_type": "markdown",
   "metadata": {},
   "source": [
    "940일의 시세데이터를 가지고 104일의 시세를 예측"
   ]
  },
  {
   "cell_type": "markdown",
   "metadata": {},
   "source": [
    "### Build a Model"
   ]
  },
  {
   "cell_type": "code",
   "execution_count": 35,
   "metadata": {},
   "outputs": [
    {
     "name": "stdout",
     "output_type": "stream",
     "text": [
      "Model: \"sequential\"\n",
      "_________________________________________________________________\n",
      " Layer (type)                Output Shape              Param #   \n",
      "=================================================================\n",
      " lstm (LSTM)                 (None, 50, 50)            10400     \n",
      "                                                                 \n",
      " lstm_1 (LSTM)               (None, 64)                29440     \n",
      "                                                                 \n",
      " dense (Dense)               (None, 1)                 65        \n",
      "                                                                 \n",
      "=================================================================\n",
      "Total params: 39,905\n",
      "Trainable params: 39,905\n",
      "Non-trainable params: 0\n",
      "_________________________________________________________________\n"
     ]
    }
   ],
   "source": [
    "#1. 모델정의\n",
    "model = Sequential()  #keras.models.sequential() 모델을 순차적으로 정의하는 클래스\n",
    "\n",
    "#2. 모델에 LSTM 레이어 추가\n",
    "model.add(LSTM(50, return_sequences = True, input_shape=(50, 1)))  # input 사이즈: (50, 1)\n",
    "model.add(LSTM(64, return_sequences = False))                      # 유닛 수: 64개 (조정하면서 성능 테스트 가능)\n",
    "\n",
    "#3. FCL (Fully Connected Layer)\n",
    "model.add(Dense(1, activation='linear'))                           # 유닛 수: 1개 (다음날 하루의 시세를 예측)\n",
    "\n",
    "#4. 손실함수(loss function)으로 MSE(Mean Squared Error), optimizer로는 rmsprop 사용\n",
    "model.compile(loss='mse', optimizer='rmsprop')\n",
    "\n",
    "#5. 모델의 개요 출력\n",
    "model.summary()"
   ]
  },
  {
   "cell_type": "markdown",
   "metadata": {},
   "source": [
    "### Training & Prediction"
   ]
  },
  {
   "cell_type": "code",
   "execution_count": 36,
   "metadata": {},
   "outputs": [
    {
     "name": "stdout",
     "output_type": "stream",
     "text": [
      "Epoch 1/20\n",
      "94/94 [==============================] - 5s 26ms/step - loss: 0.0186 - val_loss: 0.0048\n",
      "Epoch 2/20\n",
      "94/94 [==============================] - 1s 16ms/step - loss: 0.0074 - val_loss: 0.0028\n",
      "Epoch 3/20\n",
      "94/94 [==============================] - 2s 17ms/step - loss: 0.0054 - val_loss: 0.0015\n",
      "Epoch 4/20\n",
      "94/94 [==============================] - 2s 17ms/step - loss: 0.0049 - val_loss: 0.0012\n",
      "Epoch 5/20\n",
      "94/94 [==============================] - 2s 16ms/step - loss: 0.0038 - val_loss: 0.0012\n",
      "Epoch 6/20\n",
      "94/94 [==============================] - 2s 16ms/step - loss: 0.0032 - val_loss: 0.0011\n",
      "Epoch 7/20\n",
      "94/94 [==============================] - 1s 16ms/step - loss: 0.0029 - val_loss: 0.0012\n",
      "Epoch 8/20\n",
      "94/94 [==============================] - 2s 17ms/step - loss: 0.0022 - val_loss: 7.6158e-04\n",
      "Epoch 9/20\n",
      "94/94 [==============================] - 2s 16ms/step - loss: 0.0023 - val_loss: 7.6529e-04\n",
      "Epoch 10/20\n",
      "94/94 [==============================] - 2s 17ms/step - loss: 0.0020 - val_loss: 6.1812e-04\n",
      "Epoch 11/20\n",
      "94/94 [==============================] - 2s 17ms/step - loss: 0.0019 - val_loss: 7.4575e-04\n",
      "Epoch 12/20\n",
      "94/94 [==============================] - 2s 17ms/step - loss: 0.0020 - val_loss: 6.0618e-04\n",
      "Epoch 13/20\n",
      "94/94 [==============================] - 2s 17ms/step - loss: 0.0018 - val_loss: 6.6479e-04\n",
      "Epoch 14/20\n",
      "94/94 [==============================] - 2s 17ms/step - loss: 0.0020 - val_loss: 5.4128e-04\n",
      "Epoch 15/20\n",
      "94/94 [==============================] - 1s 16ms/step - loss: 0.0018 - val_loss: 5.6119e-04\n",
      "Epoch 16/20\n",
      "94/94 [==============================] - 2s 16ms/step - loss: 0.0018 - val_loss: 6.4607e-04\n",
      "Epoch 17/20\n",
      "94/94 [==============================] - 2s 16ms/step - loss: 0.0018 - val_loss: 5.1851e-04\n",
      "Epoch 18/20\n",
      "94/94 [==============================] - 1s 15ms/step - loss: 0.0016 - val_loss: 4.8398e-04\n",
      "Epoch 19/20\n",
      "94/94 [==============================] - 2s 16ms/step - loss: 0.0017 - val_loss: 5.1811e-04\n",
      "Epoch 20/20\n",
      "94/94 [==============================] - 2s 17ms/step - loss: 0.0016 - val_loss: 4.9052e-04\n"
     ]
    }
   ],
   "source": [
    "from sklearn.metrics import mean_squared_error, r2_score\n",
    "\n",
    "# 학습 시작시간 체크\n",
    "start = datetime.now()\n",
    "\n",
    "# 모델학습\n",
    "model.fit(x_train, y_train,\n",
    "         validation_data = (x_test, y_test),\n",
    "         batch_size = 10,\n",
    "         epochs = 20)\n",
    "\n",
    "# 예측\n",
    "pred = model.predict(x_test)\n",
    "\n",
    "# 학습 종료시간 체크\n",
    "stop = datetime.now()\n",
    "\n",
    "# 소요시간 계산\n",
    "delta = stop - start"
   ]
  },
  {
   "cell_type": "markdown",
   "metadata": {},
   "source": [
    "### 예측값 시각화"
   ]
  },
  {
   "cell_type": "code",
   "execution_count": 37,
   "metadata": {},
   "outputs": [
    {
     "name": "stdout",
     "output_type": "stream",
     "text": [
      "Requirement already satisfied: seaborn in c:\\users\\dorot\\pycharmprojects\\kagglestudy\\venv\\lib\\site-packages (0.11.2)\n",
      "Requirement already satisfied: matplotlib>=2.2 in c:\\users\\dorot\\pycharmprojects\\kagglestudy\\venv\\lib\\site-packages (from seaborn) (3.5.1)\n",
      "Requirement already satisfied: pandas>=0.23 in c:\\users\\dorot\\pycharmprojects\\kagglestudy\\venv\\lib\\site-packages (from seaborn) (1.4.0)\n",
      "Requirement already satisfied: scipy>=1.0 in c:\\users\\dorot\\pycharmprojects\\kagglestudy\\venv\\lib\\site-packages (from seaborn) (1.8.0)\n",
      "Requirement already satisfied: numpy>=1.15 in c:\\users\\dorot\\pycharmprojects\\kagglestudy\\venv\\lib\\site-packages (from seaborn) (1.22.0)\n",
      "Requirement already satisfied: fonttools>=4.22.0 in c:\\users\\dorot\\pycharmprojects\\kagglestudy\\venv\\lib\\site-packages (from matplotlib>=2.2->seaborn) (4.28.5)\n",
      "Requirement already satisfied: kiwisolver>=1.0.1 in c:\\users\\dorot\\pycharmprojects\\kagglestudy\\venv\\lib\\site-packages (from matplotlib>=2.2->seaborn) (1.3.2)\n",
      "Requirement already satisfied: cycler>=0.10 in c:\\users\\dorot\\pycharmprojects\\kagglestudy\\venv\\lib\\site-packages (from matplotlib>=2.2->seaborn) (0.11.0)\n",
      "Requirement already satisfied: pyparsing>=2.2.1 in c:\\users\\dorot\\pycharmprojects\\kagglestudy\\venv\\lib\\site-packages (from matplotlib>=2.2->seaborn) (3.0.6)\n",
      "Requirement already satisfied: python-dateutil>=2.7 in c:\\users\\dorot\\pycharmprojects\\kagglestudy\\venv\\lib\\site-packages (from matplotlib>=2.2->seaborn) (2.8.2)\n",
      "Requirement already satisfied: pillow>=6.2.0 in c:\\users\\dorot\\pycharmprojects\\kagglestudy\\venv\\lib\\site-packages (from matplotlib>=2.2->seaborn) (9.0.0)\n",
      "Requirement already satisfied: packaging>=20.0 in c:\\users\\dorot\\pycharmprojects\\kagglestudy\\venv\\lib\\site-packages (from matplotlib>=2.2->seaborn) (21.3)\n",
      "Requirement already satisfied: pytz>=2020.1 in c:\\users\\dorot\\pycharmprojects\\kagglestudy\\venv\\lib\\site-packages (from pandas>=0.23->seaborn) (2021.3)\n",
      "Requirement already satisfied: six>=1.5 in c:\\users\\dorot\\pycharmprojects\\kagglestudy\\venv\\lib\\site-packages (from python-dateutil>=2.7->matplotlib>=2.2->seaborn) (1.16.0)\n"
     ]
    },
    {
     "name": "stderr",
     "output_type": "stream",
     "text": [
      "WARNING: You are using pip version 21.1.2; however, version 22.0.3 is available.\n",
      "You should consider upgrading via the 'C:\\Users\\dorot\\PycharmProjects\\KaggleStudy\\venv\\Scripts\\python.exe -m pip install --upgrade pip' command.\n"
     ]
    }
   ],
   "source": [
    "!pip install seaborn"
   ]
  },
  {
   "cell_type": "code",
   "execution_count": 38,
   "metadata": {},
   "outputs": [
    {
     "data": {
      "image/png": "[encoded data removed]",
      "text/plain": [
       "<Figure size 1440x720 with 1 Axes>"
      ]
     },
     "metadata": {},
     "output_type": "display_data"
    }
   ],
   "source": [
    "fig = plt.figure(facecolor='white', figsize=(20,10))\n",
    "ax = fig.add_subplot(111)\n",
    "ax.plot(y_test, label='True')\n",
    "ax.plot(pred, label='Prediction')\n",
    "ax.legend()\n",
    "plt.show()"
   ]
  },
  {
   "cell_type": "markdown",
   "metadata": {},
   "source": [
    "### 모델평가"
   ]
  },
  {
   "cell_type": "markdown",
   "metadata": {},
   "source": [
    "**1. MSE (Mean Squared Error)**  \n",
    "    예측값과 실제값의 차이인 오차들의 제곱 평균\n",
    "    \n",
    "**2. R2 score**  \n",
    "    분산기반 예측 성능 평가.  \n",
    "    MAE, MSE와 같은 지표들은 데이터의 scale에 따라 값이 다르지만, R2은 상대적인 성능이 어느정도인지 직관적으로 판단할 수 있음.\n",
    "\n",
    "**3. RMSE (Root Mean Squared Error)**  \n",
    "    모델의 예측값과 실제 환경에서 관찰되는 값의 차이를 다룰 때 흔히 사용하는 평가방법  \n",
    "    \n",
    "**4. 소요시간**  \n",
    "    학습부터 예측까지 소요되는 시간"
   ]
  },
  {
   "cell_type": "code",
   "execution_count": 39,
   "metadata": {},
   "outputs": [
    {
     "name": "stdout",
     "output_type": "stream",
     "text": [
      "LSTM\n",
      "\n",
      "MSE:  0.0004905243695700086\n",
      "R2:  0.9925253299964149\n",
      "RMSE:  0.022147784755365683\n",
      "Time to compute:  35.376009 seconds\n"
     ]
    }
   ],
   "source": [
    "# 평가결과 출력\n",
    "print('LSTM\\n')\n",
    "\n",
    "# MSE\n",
    "loss = mean_squared_error(y_test, pred)\n",
    "print('MSE: ', loss)\n",
    "\n",
    "# R2\n",
    "r2 = r2_score(y_test, pred)\n",
    "print('R2: ', r2)\n",
    "\n",
    "# RMSE\n",
    "err = np.sqrt(mean_squared_error(y_test, pred))\n",
    "print('RMSE: ', err)\n",
    "\n",
    "# 소요시간\n",
    "seconds = delta.seconds + delta.microseconds/1E6\n",
    "print('Time to compute: ', seconds, 'seconds')\n",
    "\n",
    "lstm = ('LSTM', loss, r2, err, seconds)"
   ]
  }
 ],
 "metadata": {
  "kernelspec": {
   "display_name": "Python 3 (ipykernel)",
   "language": "python",
   "name": "python3"
  },
  "language_info": {
   "codemirror_mode": {
    "name": "ipython",
    "version": 3
   },
   "file_extension": ".py",
   "mimetype": "text/x-python",
   "name": "python",
   "nbconvert_exporter": "python",
   "pygments_lexer": "ipython3",
   "version": "3.9.5"
  }
 },
 "nbformat": 4,
 "nbformat_minor": 1
}